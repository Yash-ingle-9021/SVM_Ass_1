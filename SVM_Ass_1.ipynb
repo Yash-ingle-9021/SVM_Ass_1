{
 "cells": [
  {
   "cell_type": "markdown",
   "id": "0c9ae436-c9fa-4f2f-9954-93e603ba7243",
   "metadata": {},
   "source": [
    "# Support Vector Machine Assignment 1"
   ]
  },
  {
   "cell_type": "markdown",
   "id": "83af0041-8951-4ce2-8ff0-229029a52db5",
   "metadata": {},
   "source": [
    "Q 1 ANS:- \n",
    "\n",
    "Given a training dataset with input features X and corresponding class labels y, where X = {x_1, x_2, ..., x_n} and y = {-1, +1} for binary classification, the goal of a linear SVM is to find a hyperplane that maximally separates the two classes.\n",
    "\n",
    "The decision function of a linear SVM can be defined as:\n",
    "\n",
    "f(x) = w^T x + b\n",
    "\n",
    "where:\n",
    "\n",
    "f(x) is the predicted class label for input feature x.\n",
    "w is the weight vector perpendicular to the hyperplane.\n",
    "x is the input feature vector.\n",
    "b is the bias term.\n",
    "The weight vector w and bias term b are learned during the training phase of the SVM."
   ]
  },
  {
   "cell_type": "code",
   "execution_count": null,
   "id": "ac3c3dbf-573b-4a76-8fed-718c6f4cf292",
   "metadata": {},
   "outputs": [],
   "source": []
  },
  {
   "cell_type": "markdown",
   "id": "212a82d5-32b7-4f3b-875a-e9864d06a79f",
   "metadata": {},
   "source": [
    "Q 2 ANS:-\n",
    "\n",
    "The objective function of a linear Support Vector Machine (SVM) depends on whether it is a hard-margin or soft-margin SVM. The most commonly used formulation is the soft-margin SVM, which allows for some misclassifications and incorporates a regularization term. The objective function of the soft-margin SVM is as follows:\n",
    "\n",
    "minimize 0.5 * ||w||^2 + C * Σξ_i\n",
    "\n",
    "subject to y_i * (w^T * x_i + b) ≥ 1 - ξ_i, for all training instances (x_i, y_i)\n",
    "\n",
    "where:\n",
    "\n",
    "||w|| is the Euclidean norm (L2 norm) of the weight vector w.\n",
    "C is the regularization parameter that controls the trade-off between margin maximization and error minimization. A smaller C allows for a wider margin but may result in more misclassifications, while a larger C emphasizes error minimization at the expense of a narrower margin.\n",
    "ξ_i is a slack variable that represents the amount by which the i-th training instance violates the margin constraint. It allows for some instances to be misclassified or fall within the margin region.\n",
    "(x_i, y_i) is a training instance with input feature vector x_i and class label y_i.\n",
    "w and b are the parameters of the linear SVM that need to be learned.\n",
    "The objective function aims to minimize the norm of the weight vector (which corresponds to maximizing the margin) while simultaneously minimizing the total violations of the margin constraints. The regularization parameter C controls the trade-off between these two objectives."
   ]
  },
  {
   "cell_type": "code",
   "execution_count": null,
   "id": "6f1b7d6e-9b99-4238-950b-943b1ad37a69",
   "metadata": {},
   "outputs": [],
   "source": []
  },
  {
   "cell_type": "markdown",
   "id": "ca1df8a6-198a-4bd4-8137-8dff0ca321a0",
   "metadata": {},
   "source": [
    "Q 3 ANS:-\n",
    "\n",
    "The kernel trick is a technique used in Support Vector Machines (SVMs) to implicitly map the input data into a higher-dimensional feature space without actually computing the coordinates of the data points in that space. It allows SVMs to efficiently handle nonlinearly separable data by transforming it into a higher-dimensional space where linear separation is possible.\n",
    "\n",
    "The kernel trick works by introducing a kernel function that operates on the original input features (in the original input space) and computes the inner products between the transformed feature vectors in the higher-dimensional space. The kernel function implicitly defines the relationship between the original input space and the higher-dimensional feature space.\n",
    "\n",
    "Mathematically, given an input feature vector x, the kernel trick can be represented as:\n",
    "\n",
    "K(x, x') = φ(x)^T φ(x')\n",
    "\n",
    "where K(x, x') is the kernel function that computes the inner product between the transformed feature vectors φ(x) and φ(x') in the higher-dimensional space.\n",
    "\n",
    "The advantage of using the kernel trick is that it avoids the explicit computation and storage of the transformed feature vectors φ(x) for all data points, which can be computationally expensive or even infeasible in high-dimensional or infinite-dimensional spaces. Instead, the kernel function computes the inner products directly, bypassing the need to explicitly calculate the transformed feature vectors.\n",
    "\n",
    "Commonly used kernel functions in SVMs include the linear kernel, polynomial kernel, Gaussian (RBF) kernel, and sigmoid kernel, among others. Each kernel function has its own characteristics and is suitable for different types of data and problem domains.\n",
    "\n",
    "By leveraging the kernel trick, SVMs can efficiently perform nonlinear classification by implicitly operating in a higher-dimensional feature space, even though the original input features may be linearly inseparable in the original input space."
   ]
  },
  {
   "cell_type": "code",
   "execution_count": null,
   "id": "51ed7dd0-6695-4408-ad26-652260ca4318",
   "metadata": {},
   "outputs": [],
   "source": []
  },
  {
   "cell_type": "markdown",
   "id": "9dc0ccb9-8257-4546-be73-eb38c716e54d",
   "metadata": {},
   "source": [
    "Q 4 ANS:-\n",
    "\n",
    "Support vectors play a crucial role in Support Vector Machines (SVMs) and are key elements in defining the decision boundary and making predictions. In SVM, support vectors are the data points from the training set that lie closest to the decision boundary or have the most influence on its position. These data points directly affect the construction of the decision boundary and the generalization capability of the SVM model.\n",
    "\n",
    "Let's consider a simple example with a binary classification problem. Suppose we have a dataset with two classes, represented by red and blue points, as shown below:\n",
    "\n",
    "```\n",
    "       Blue\n",
    "         |\n",
    "    *    |\n",
    "   *     |\n",
    "         |\n",
    "-----------------\n",
    "         |\n",
    "         |\n",
    "         |    *\n",
    "         |   *\n",
    "       Red\n",
    "```\n",
    "\n",
    "In this case, the solid line represents the decision boundary or hyperplane created by the SVM. The support vectors, denoted by the asterisks (*), are the data points closest to the decision boundary on each side. These points lie on or within the margin, which is the region between the two dotted lines parallel to the decision boundary.\n",
    "\n",
    "The support vectors are crucial because they determine the position and orientation of the decision boundary. They are the critical points that influence the margin and classification decisions. All other data points in the training set that are not support vectors do not affect the decision boundary. Therefore, SVMs are often referred to as \"sparse\" models since the decision boundary is primarily determined by a small subset of the training data.\n",
    "\n",
    "During the training process of an SVM, the algorithm identifies the support vectors by solving the optimization problem and finding the hyperplane that maximizes the margin while satisfying the margin constraints. These support vectors have non-zero coefficients in the solution and are responsible for defining the decision boundary.\n",
    "\n",
    "When it comes to making predictions with SVMs, the support vectors are used to determine the class label of new, unseen instances. The distance or similarity between the support vectors and the new instance is calculated using the chosen kernel function. Based on this information, the SVM determines which side of the decision boundary the new instance falls on, and assigns the corresponding class label.\n",
    "\n",
    "In summary, support vectors are the critical training instances that define the decision boundary and have the most influence on the SVM model. They play a fundamental role in determining the margin and guiding the classification decisions for both the training and prediction phases of SVMs."
   ]
  },
  {
   "cell_type": "code",
   "execution_count": null,
   "id": "ef513bf2-ac11-4fc6-baa9-5389b07e2e6b",
   "metadata": {},
   "outputs": [],
   "source": []
  },
  {
   "cell_type": "markdown",
   "id": "c4149b73-9eef-47f2-9737-084838f44013",
   "metadata": {},
   "source": [
    "Q 5 ANS:- \n",
    "\n",
    "Certainly! Let's illustrate the concepts of a hyperplane, marginal plane, soft margin, and hard margin in SVM with the help of examples and graphs.\n",
    "\n",
    "Example: Consider a 2D dataset with two classes, represented by red and blue points, as shown below:\n",
    "\n",
    "```\n",
    "       Blue\n",
    "         |\n",
    "    *    |\n",
    "   *     |\n",
    "         |\n",
    "-----------------\n",
    "         |\n",
    "         |\n",
    "         |    *\n",
    "         |   *\n",
    "       Red\n",
    "```\n",
    "\n",
    "Hyperplane: In SVM, the hyperplane is a decision boundary that separates the two classes. In a 2D space, the hyperplane is a line. The goal of SVM is to find the optimal hyperplane that maximizes the margin between the classes.\n",
    "\n",
    "```\n",
    "       Blue\n",
    "         |\n",
    "    *    |\n",
    "   *     |  Hyperplane\n",
    "         |\n",
    "-----------------\n",
    "         |\n",
    "         |\n",
    "         |    *\n",
    "         |   *\n",
    "       Red\n",
    "```\n",
    "\n",
    "Marginal Plane: The marginal plane refers to the two parallel lines that lie equidistant from the hyperplane and define the margin in SVM. The support vectors lie on or within these marginal planes.\n",
    "\n",
    "```\n",
    "       Blue\n",
    "         |\n",
    "    *    |\n",
    "   *     |  Hyperplane\n",
    "         |\n",
    "---------|-----------\n",
    "  Margin  |  Margin\n",
    "         |\n",
    "         |\n",
    "         |    *\n",
    "         |   *\n",
    "       Red\n",
    "```\n",
    "\n",
    "Soft Margin: Soft margin SVM allows for some misclassifications to achieve a wider margin. It introduces slack variables to allow data points to fall within the margin or on the wrong side of the hyperplane. The objective is to find a hyperplane that minimizes the errors and maximizes the margin while allowing for some flexibility.\n",
    "\n",
    "```\n",
    "       Blue\n",
    "         |\n",
    "    *    |\n",
    "   *     |  Hyperplane\n",
    "         |\n",
    "--------|------------\n",
    "  Margin |  Margin\n",
    "         |   *\n",
    "    Slack|*\n",
    "       Red\n",
    "```\n",
    "\n",
    "Hard Margin: Hard margin SVM aims to find a hyperplane that perfectly separates the classes without any misclassifications. It assumes that the data is linearly separable, and there are no points within the margin or on the wrong side of the hyperplane.\n",
    "\n",
    "```\n",
    "       Blue\n",
    "         |\n",
    "    *    |\n",
    "   *     |  Hyperplane\n",
    "         |\n",
    "--------|------------\n",
    "  Margin |  Margin\n",
    "         |\n",
    "         |\n",
    "         |    *\n",
    "         |   *\n",
    "       Red\n",
    "```\n",
    "\n",
    "In the above examples, the decision boundary (hyperplane) is shown as a line separating the red and blue points. The margins are indicated by the two parallel lines, and the support vectors are represented by asterisks (*). The soft margin SVM allows for some misclassifications (shown by points within the margin or on the wrong side), while the hard margin SVM assumes perfect separability with no misclassifications.\n",
    "\n",
    "These examples visually demonstrate the concepts of hyperplane, marginal plane, soft margin, and hard margin in SVM, showcasing how the placement of the decision boundary and the margins can vary based on the margin constraints and classification objectives."
   ]
  },
  {
   "cell_type": "code",
   "execution_count": null,
   "id": "2150bf3e-d412-4414-b904-1733690f0986",
   "metadata": {},
   "outputs": [],
   "source": []
  },
  {
   "cell_type": "markdown",
   "id": "598021d4-034a-4041-98b3-689789c238d0",
   "metadata": {},
   "source": [
    "Q 6 ANS:- "
   ]
  },
  {
   "cell_type": "code",
   "execution_count": 1,
   "id": "12967449-a805-4b05-8742-e7eeb161fd90",
   "metadata": {},
   "outputs": [],
   "source": [
    "from sklearn.datasets import load_iris\n",
    "from sklearn.model_selection import train_test_split\n",
    "from sklearn.svm import SVC\n",
    "import numpy as np\n",
    "import matplotlib.pyplot as plt\n",
    "\n",
    "\n",
    "iris = load_iris()\n",
    "X = iris.data[:, :2]  # Selecting the first two features (sepal length and sepal width)\n",
    "y = iris.target\n",
    "\n",
    "\n",
    "X_train, X_test, y_train, y_test = train_test_split(X, y, test_size=0.2, random_state=42)\n"
   ]
  },
  {
   "cell_type": "code",
   "execution_count": 2,
   "id": "f1f02eca-c0c4-4f64-95a4-db3eafa42807",
   "metadata": {},
   "outputs": [
    {
     "data": {
      "text/html": [
       "<style>#sk-container-id-1 {color: black;background-color: white;}#sk-container-id-1 pre{padding: 0;}#sk-container-id-1 div.sk-toggleable {background-color: white;}#sk-container-id-1 label.sk-toggleable__label {cursor: pointer;display: block;width: 100%;margin-bottom: 0;padding: 0.3em;box-sizing: border-box;text-align: center;}#sk-container-id-1 label.sk-toggleable__label-arrow:before {content: \"▸\";float: left;margin-right: 0.25em;color: #696969;}#sk-container-id-1 label.sk-toggleable__label-arrow:hover:before {color: black;}#sk-container-id-1 div.sk-estimator:hover label.sk-toggleable__label-arrow:before {color: black;}#sk-container-id-1 div.sk-toggleable__content {max-height: 0;max-width: 0;overflow: hidden;text-align: left;background-color: #f0f8ff;}#sk-container-id-1 div.sk-toggleable__content pre {margin: 0.2em;color: black;border-radius: 0.25em;background-color: #f0f8ff;}#sk-container-id-1 input.sk-toggleable__control:checked~div.sk-toggleable__content {max-height: 200px;max-width: 100%;overflow: auto;}#sk-container-id-1 input.sk-toggleable__control:checked~label.sk-toggleable__label-arrow:before {content: \"▾\";}#sk-container-id-1 div.sk-estimator input.sk-toggleable__control:checked~label.sk-toggleable__label {background-color: #d4ebff;}#sk-container-id-1 div.sk-label input.sk-toggleable__control:checked~label.sk-toggleable__label {background-color: #d4ebff;}#sk-container-id-1 input.sk-hidden--visually {border: 0;clip: rect(1px 1px 1px 1px);clip: rect(1px, 1px, 1px, 1px);height: 1px;margin: -1px;overflow: hidden;padding: 0;position: absolute;width: 1px;}#sk-container-id-1 div.sk-estimator {font-family: monospace;background-color: #f0f8ff;border: 1px dotted black;border-radius: 0.25em;box-sizing: border-box;margin-bottom: 0.5em;}#sk-container-id-1 div.sk-estimator:hover {background-color: #d4ebff;}#sk-container-id-1 div.sk-parallel-item::after {content: \"\";width: 100%;border-bottom: 1px solid gray;flex-grow: 1;}#sk-container-id-1 div.sk-label:hover label.sk-toggleable__label {background-color: #d4ebff;}#sk-container-id-1 div.sk-serial::before {content: \"\";position: absolute;border-left: 1px solid gray;box-sizing: border-box;top: 0;bottom: 0;left: 50%;z-index: 0;}#sk-container-id-1 div.sk-serial {display: flex;flex-direction: column;align-items: center;background-color: white;padding-right: 0.2em;padding-left: 0.2em;position: relative;}#sk-container-id-1 div.sk-item {position: relative;z-index: 1;}#sk-container-id-1 div.sk-parallel {display: flex;align-items: stretch;justify-content: center;background-color: white;position: relative;}#sk-container-id-1 div.sk-item::before, #sk-container-id-1 div.sk-parallel-item::before {content: \"\";position: absolute;border-left: 1px solid gray;box-sizing: border-box;top: 0;bottom: 0;left: 50%;z-index: -1;}#sk-container-id-1 div.sk-parallel-item {display: flex;flex-direction: column;z-index: 1;position: relative;background-color: white;}#sk-container-id-1 div.sk-parallel-item:first-child::after {align-self: flex-end;width: 50%;}#sk-container-id-1 div.sk-parallel-item:last-child::after {align-self: flex-start;width: 50%;}#sk-container-id-1 div.sk-parallel-item:only-child::after {width: 0;}#sk-container-id-1 div.sk-dashed-wrapped {border: 1px dashed gray;margin: 0 0.4em 0.5em 0.4em;box-sizing: border-box;padding-bottom: 0.4em;background-color: white;}#sk-container-id-1 div.sk-label label {font-family: monospace;font-weight: bold;display: inline-block;line-height: 1.2em;}#sk-container-id-1 div.sk-label-container {text-align: center;}#sk-container-id-1 div.sk-container {/* jupyter's `normalize.less` sets `[hidden] { display: none; }` but bootstrap.min.css set `[hidden] { display: none !important; }` so we also need the `!important` here to be able to override the default hidden behavior on the sphinx rendered scikit-learn.org. See: https://github.com/scikit-learn/scikit-learn/issues/21755 */display: inline-block !important;position: relative;}#sk-container-id-1 div.sk-text-repr-fallback {display: none;}</style><div id=\"sk-container-id-1\" class=\"sk-top-container\"><div class=\"sk-text-repr-fallback\"><pre>SVC(kernel=&#x27;linear&#x27;)</pre><b>In a Jupyter environment, please rerun this cell to show the HTML representation or trust the notebook. <br />On GitHub, the HTML representation is unable to render, please try loading this page with nbviewer.org.</b></div><div class=\"sk-container\" hidden><div class=\"sk-item\"><div class=\"sk-estimator sk-toggleable\"><input class=\"sk-toggleable__control sk-hidden--visually\" id=\"sk-estimator-id-1\" type=\"checkbox\" checked><label for=\"sk-estimator-id-1\" class=\"sk-toggleable__label sk-toggleable__label-arrow\">SVC</label><div class=\"sk-toggleable__content\"><pre>SVC(kernel=&#x27;linear&#x27;)</pre></div></div></div></div></div>"
      ],
      "text/plain": [
       "SVC(kernel='linear')"
      ]
     },
     "execution_count": 2,
     "metadata": {},
     "output_type": "execute_result"
    }
   ],
   "source": [
    "svm = SVC(kernel='linear')\n",
    "svm.fit(X_train,y_train)"
   ]
  },
  {
   "cell_type": "code",
   "execution_count": 3,
   "id": "e46b3d86-05b0-4e3f-aed0-ccee5fa5663d",
   "metadata": {},
   "outputs": [],
   "source": [
    "y_pred = svm.predict(X_test)"
   ]
  },
  {
   "cell_type": "code",
   "execution_count": 4,
   "id": "6240f822-7394-4350-8884-c0f4b345a30c",
   "metadata": {},
   "outputs": [
    {
     "data": {
      "text/plain": [
       "0.9"
      ]
     },
     "execution_count": 4,
     "metadata": {},
     "output_type": "execute_result"
    }
   ],
   "source": [
    "from sklearn.metrics import accuracy_score\n",
    "score = accuracy_score(y_pred,y_test)\n",
    "score"
   ]
  },
  {
   "cell_type": "code",
   "execution_count": null,
   "id": "a7cbbcdb-f5ff-4432-bd1c-57b33694dd6a",
   "metadata": {},
   "outputs": [],
   "source": []
  },
  {
   "cell_type": "code",
   "execution_count": 5,
   "id": "3ffc31c9-ef65-4e71-ad5f-3ae7bcc9d7cb",
   "metadata": {},
   "outputs": [
    {
     "data": {
      "image/png": "[encoded data removed]",
      "text/plain": [
       "<Figure size 640x480 with 1 Axes>"
      ]
     },
     "metadata": {},
     "output_type": "display_data"
    }
   ],
   "source": [
    "# Create a meshgrid of feature values\n",
    "x_min, x_max = X[:, 0].min() - 1, X[:, 0].max() + 1\n",
    "y_min, y_max = X[:, 1].min() - 1, X[:, 1].max() + 1\n",
    "xx, yy = np.meshgrid(np.arange(x_min, x_max, 0.01), np.arange(y_min, y_max, 0.01))\n",
    "\n",
    "# Make predictions on the meshgrid\n",
    "Z = svm.predict(np.c_[xx.ravel(), yy.ravel()])\n",
    "Z = Z.reshape(xx.shape)\n",
    "\n",
    "# Plot the decision boundaries\n",
    "plt.contourf(xx, yy, Z, alpha=0.8)\n",
    "plt.scatter(X[:, 0], X[:, 1], c=y, cmap=plt.cm.Set1)\n",
    "plt.xlabel('Sepal length')\n",
    "plt.ylabel('Sepal width')\n",
    "plt.title('SVM Decision Boundaries')\n",
    "plt.show()\n"
   ]
  },
  {
   "cell_type": "code",
   "execution_count": null,
   "id": "359fe6e1-06a9-4a5c-ad9e-3d14f3304ee6",
   "metadata": {},
   "outputs": [],
   "source": []
  },
  {
   "cell_type": "code",
   "execution_count": 6,
   "id": "62f661ea-cdd3-4a58-8535-58f764a84dd0",
   "metadata": {},
   "outputs": [
    {
     "data": {
      "text/html": [
       "<style>#sk-container-id-2 {color: black;background-color: white;}#sk-container-id-2 pre{padding: 0;}#sk-container-id-2 div.sk-toggleable {background-color: white;}#sk-container-id-2 label.sk-toggleable__label {cursor: pointer;display: block;width: 100%;margin-bottom: 0;padding: 0.3em;box-sizing: border-box;text-align: center;}#sk-container-id-2 label.sk-toggleable__label-arrow:before {content: \"▸\";float: left;margin-right: 0.25em;color: #696969;}#sk-container-id-2 label.sk-toggleable__label-arrow:hover:before {color: black;}#sk-container-id-2 div.sk-estimator:hover label.sk-toggleable__label-arrow:before {color: black;}#sk-container-id-2 div.sk-toggleable__content {max-height: 0;max-width: 0;overflow: hidden;text-align: left;background-color: #f0f8ff;}#sk-container-id-2 div.sk-toggleable__content pre {margin: 0.2em;color: black;border-radius: 0.25em;background-color: #f0f8ff;}#sk-container-id-2 input.sk-toggleable__control:checked~div.sk-toggleable__content {max-height: 200px;max-width: 100%;overflow: auto;}#sk-container-id-2 input.sk-toggleable__control:checked~label.sk-toggleable__label-arrow:before {content: \"▾\";}#sk-container-id-2 div.sk-estimator input.sk-toggleable__control:checked~label.sk-toggleable__label {background-color: #d4ebff;}#sk-container-id-2 div.sk-label input.sk-toggleable__control:checked~label.sk-toggleable__label {background-color: #d4ebff;}#sk-container-id-2 input.sk-hidden--visually {border: 0;clip: rect(1px 1px 1px 1px);clip: rect(1px, 1px, 1px, 1px);height: 1px;margin: -1px;overflow: hidden;padding: 0;position: absolute;width: 1px;}#sk-container-id-2 div.sk-estimator {font-family: monospace;background-color: #f0f8ff;border: 1px dotted black;border-radius: 0.25em;box-sizing: border-box;margin-bottom: 0.5em;}#sk-container-id-2 div.sk-estimator:hover {background-color: #d4ebff;}#sk-container-id-2 div.sk-parallel-item::after {content: \"\";width: 100%;border-bottom: 1px solid gray;flex-grow: 1;}#sk-container-id-2 div.sk-label:hover label.sk-toggleable__label {background-color: #d4ebff;}#sk-container-id-2 div.sk-serial::before {content: \"\";position: absolute;border-left: 1px solid gray;box-sizing: border-box;top: 0;bottom: 0;left: 50%;z-index: 0;}#sk-container-id-2 div.sk-serial {display: flex;flex-direction: column;align-items: center;background-color: white;padding-right: 0.2em;padding-left: 0.2em;position: relative;}#sk-container-id-2 div.sk-item {position: relative;z-index: 1;}#sk-container-id-2 div.sk-parallel {display: flex;align-items: stretch;justify-content: center;background-color: white;position: relative;}#sk-container-id-2 div.sk-item::before, #sk-container-id-2 div.sk-parallel-item::before {content: \"\";position: absolute;border-left: 1px solid gray;box-sizing: border-box;top: 0;bottom: 0;left: 50%;z-index: -1;}#sk-container-id-2 div.sk-parallel-item {display: flex;flex-direction: column;z-index: 1;position: relative;background-color: white;}#sk-container-id-2 div.sk-parallel-item:first-child::after {align-self: flex-end;width: 50%;}#sk-container-id-2 div.sk-parallel-item:last-child::after {align-self: flex-start;width: 50%;}#sk-container-id-2 div.sk-parallel-item:only-child::after {width: 0;}#sk-container-id-2 div.sk-dashed-wrapped {border: 1px dashed gray;margin: 0 0.4em 0.5em 0.4em;box-sizing: border-box;padding-bottom: 0.4em;background-color: white;}#sk-container-id-2 div.sk-label label {font-family: monospace;font-weight: bold;display: inline-block;line-height: 1.2em;}#sk-container-id-2 div.sk-label-container {text-align: center;}#sk-container-id-2 div.sk-container {/* jupyter's `normalize.less` sets `[hidden] { display: none; }` but bootstrap.min.css set `[hidden] { display: none !important; }` so we also need the `!important` here to be able to override the default hidden behavior on the sphinx rendered scikit-learn.org. See: https://github.com/scikit-learn/scikit-learn/issues/21755 */display: inline-block !important;position: relative;}#sk-container-id-2 div.sk-text-repr-fallback {display: none;}</style><div id=\"sk-container-id-2\" class=\"sk-top-container\"><div class=\"sk-text-repr-fallback\"><pre>SVC(C=0.2, kernel=&#x27;linear&#x27;)</pre><b>In a Jupyter environment, please rerun this cell to show the HTML representation or trust the notebook. <br />On GitHub, the HTML representation is unable to render, please try loading this page with nbviewer.org.</b></div><div class=\"sk-container\" hidden><div class=\"sk-item\"><div class=\"sk-estimator sk-toggleable\"><input class=\"sk-toggleable__control sk-hidden--visually\" id=\"sk-estimator-id-2\" type=\"checkbox\" checked><label for=\"sk-estimator-id-2\" class=\"sk-toggleable__label sk-toggleable__label-arrow\">SVC</label><div class=\"sk-toggleable__content\"><pre>SVC(C=0.2, kernel=&#x27;linear&#x27;)</pre></div></div></div></div></div>"
      ],
      "text/plain": [
       "SVC(C=0.2, kernel='linear')"
      ]
     },
     "execution_count": 6,
     "metadata": {},
     "output_type": "execute_result"
    }
   ],
   "source": [
    "svm = SVC(kernel='linear',C=0.2)\n",
    "svm.fit(X_train,y_train)"
   ]
  },
  {
   "cell_type": "code",
   "execution_count": 7,
   "id": "5ea159b0-ab4a-42b1-9a94-94b2d5df848e",
   "metadata": {},
   "outputs": [],
   "source": [
    "y_pred = svm.predict(X_test)"
   ]
  },
  {
   "cell_type": "code",
   "execution_count": 8,
   "id": "fe2ef160-eec8-44ad-b4e2-874d1f62f879",
   "metadata": {},
   "outputs": [
    {
     "data": {
      "text/plain": [
       "0.9"
      ]
     },
     "execution_count": 8,
     "metadata": {},
     "output_type": "execute_result"
    }
   ],
   "source": [
    "score = accuracy_score(y_pred,y_test)\n",
    "score"
   ]
  },
  {
   "cell_type": "code",
   "execution_count": null,
   "id": "978dbb4f-fb3f-4458-a0f1-65b0d524eea1",
   "metadata": {},
   "outputs": [],
   "source": []
  }
 ],
 "metadata": {
  "kernelspec": {
   "display_name": "Python 3 (ipykernel)",
   "language": "python",
   "name": "python3"
  },
  "language_info": {
   "codemirror_mode": {
    "name": "ipython",
    "version": 3
   },
   "file_extension": ".py",
   "mimetype": "text/x-python",
   "name": "python",
   "nbconvert_exporter": "python",
   "pygments_lexer": "ipython3",
   "version": "3.10.6"
  }
 },
 "nbformat": 4,
 "nbformat_minor": 5
}
